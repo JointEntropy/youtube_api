{
 "cells": [
  {
   "cell_type": "code",
   "execution_count": 1,
   "id": "84125c49",
   "metadata": {},
   "outputs": [],
   "source": [
    "%load_ext autoreload\n",
    "%autoreload 2"
   ]
  },
  {
   "cell_type": "markdown",
   "id": "7e292983",
   "metadata": {},
   "source": [
    "\n",
    "строим граф на основе feed скаченных видео.\n",
    "\n",
    "Реализовать процедуру добавления в граф новых связей видео и каналов."
   ]
  },
  {
   "cell_type": "code",
   "execution_count": 2,
   "id": "2abc9b89",
   "metadata": {},
   "outputs": [],
   "source": [
    "import sys\n",
    "sys.path.insert(0, '..')\n",
    "from advanced_search.parse_feed import parse_feed"
   ]
  },
  {
   "cell_type": "code",
   "execution_count": 3,
   "id": "006213eb",
   "metadata": {},
   "outputs": [],
   "source": [
    "tmp_df = parse_feed('../advanced_search/tempo_file.jsonl')"
   ]
  },
  {
   "cell_type": "code",
   "execution_count": 9,
   "id": "b6976220",
   "metadata": {},
   "outputs": [
    {
     "name": "stdout",
     "output_type": "stream",
     "text": [
      "Collecting package metadata (current_repodata.json): done\n",
      "Solving environment: done\n",
      "\n",
      "\n",
      "==> WARNING: A newer version of conda exists. <==\n",
      "  current version: 4.9.2\n",
      "  latest version: 4.13.0\n",
      "\n",
      "Please update conda by running\n",
      "\n",
      "    $ conda update -n base -c defaults conda\n",
      "\n",
      "\n",
      "\n",
      "# All requested packages already installed.\n",
      "\n"
     ]
    }
   ],
   "source": [
    "!conda install networkx -y"
   ]
  },
  {
   "cell_type": "code",
   "execution_count": 155,
   "id": "0a7d64d0",
   "metadata": {},
   "outputs": [
    {
     "name": "stdout",
     "output_type": "stream",
     "text": [
      "graph_explorer.ipynb\r\n"
     ]
    }
   ],
   "source": [
    "!ls"
   ]
  },
  {
   "cell_type": "code",
   "execution_count": 159,
   "id": "8d721601",
   "metadata": {},
   "outputs": [
    {
     "data": {
      "text/plain": [
       "(3, 'v1')"
      ]
     },
     "execution_count": 159,
     "metadata": {},
     "output_type": "execute_result"
    }
   ],
   "source": [
    "import networkx as nx\n",
    "from advanced_search.graph_utils import get_node_candidate\n",
    "\n",
    "def consruct_example_graph() -> nx.Graph:\n",
    "    G = nx.Graph()\n",
    "\n",
    "    G.add_node('v1', nodetype='video')\n",
    "    G.add_node('v2', nodetype='video')\n",
    "    G.add_node('v3', nodetype='video')\n",
    "\n",
    "    G.add_node('c1', nodetype='channel')\n",
    "    G.add_node('c2', nodetype='channel')\n",
    "\n",
    "    G.add_edge('v1', 'c1')\n",
    "    G.add_edge('v2', 'c1')\n",
    "    G.add_edge('v3', 'c2')\n",
    "\n",
    "    G.add_edge('v1', 'v2')\n",
    "    G.add_edge('v2', 'v3')\n",
    "    return G\n",
    "\n",
    "G = consruct_example_graph()\n",
    "get_node_candidate(G)"
   ]
  },
  {
   "cell_type": "code",
   "execution_count": 160,
   "id": "62967c9e",
   "metadata": {},
   "outputs": [
    {
     "data": {
      "text/plain": [
       "(0, 'DmJTFevn4lA')"
      ]
     },
     "execution_count": 160,
     "metadata": {},
     "output_type": "execute_result"
    }
   ],
   "source": [
    "G = construct_graph_from_feed(tmp_df)\n",
    "get_node_candidate(G)"
   ]
  },
  {
   "cell_type": "code",
   "execution_count": 141,
   "id": "632136a8",
   "metadata": {},
   "outputs": [],
   "source": [
    "# channels = []\n",
    "# for node_adg_info in G.adjacency():\n",
    "#     node_id = node_adg_info[0]\n",
    "#     if G.nodes[node_id].get('nodetype')!='channel':\n",
    "#         continue\n",
    "#     channels.append(node_id)"
   ]
  },
  {
   "cell_type": "code",
   "execution_count": 143,
   "id": "99c44fcd",
   "metadata": {},
   "outputs": [],
   "source": [
    "# G.adj[channels[1]]['8uYyDSki9r0']"
   ]
  },
  {
   "cell_type": "code",
   "execution_count": 144,
   "id": "e81f4a6f",
   "metadata": {},
   "outputs": [],
   "source": [
    "# G.nodes['8uYyDSki9r0']"
   ]
  }
 ],
 "metadata": {
  "kernelspec": {
   "display_name": "Python 3 (ipykernel)",
   "language": "python",
   "name": "python3"
  },
  "language_info": {
   "codemirror_mode": {
    "name": "ipython",
    "version": 3
   },
   "file_extension": ".py",
   "mimetype": "text/x-python",
   "name": "python",
   "nbconvert_exporter": "python",
   "pygments_lexer": "ipython3",
   "version": "3.8.0"
  },
  "toc": {
   "base_numbering": 1,
   "nav_menu": {},
   "number_sections": true,
   "sideBar": true,
   "skip_h1_title": false,
   "title_cell": "Table of Contents",
   "title_sidebar": "Contents",
   "toc_cell": false,
   "toc_position": {},
   "toc_section_display": true,
   "toc_window_display": false
  }
 },
 "nbformat": 4,
 "nbformat_minor": 5
}
